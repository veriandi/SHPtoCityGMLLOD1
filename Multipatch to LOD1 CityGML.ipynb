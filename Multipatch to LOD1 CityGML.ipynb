{
 "cells": [
  {
   "cell_type": "code",
   "execution_count": 27,
   "metadata": {},
   "outputs": [],
   "source": [
    "# Import library yang diperlukan\n",
    "import shapefile as sf\n",
    "from lxml import etree\n",
    "import uuid\n",
    "import geopandas as gpd\n",
    "from shapely.geometry import Polygon"
   ]
  },
  {
   "cell_type": "code",
   "execution_count": 28,
   "metadata": {},
   "outputs": [],
   "source": [
    "# Directory multipatch bangunan LOD1 Coblong\n",
    "sfDir = '/Users/veriandi/Desktop/Projects/CityGML Coblong/Multipatch LOD1/3D_BDG_LOD1_att_extrd'"
   ]
  },
  {
   "cell_type": "code",
   "execution_count": 29,
   "metadata": {},
   "outputs": [],
   "source": [
    "# Directory shapefile persil Coblong\n",
    "persilDir = '/Users/veriandi/Desktop/Projects/CityGML Coblong/Persil/persil.shp'"
   ]
  },
  {
   "cell_type": "code",
   "execution_count": 30,
   "metadata": {},
   "outputs": [],
   "source": [
    "# Membaca file persil dan memasukkannya ke dalam GeoDataFrame\n",
    "Persil = gpd.read_file(persilDir)\n",
    "persil = Persil.loc[:, ['NIB', 'geometry']]\n",
    "persil = persil.to_crs('EPSG:32748')"
   ]
  },
  {
   "cell_type": "code",
   "execution_count": 31,
   "metadata": {},
   "outputs": [],
   "source": [
    "# Membaca file multipatch LOD1\n",
    "# Ekstraksi geometri dan atribut\n",
    "sfReader = sf.Reader(sfDir)\n",
    "features = sfReader.shapes()\n",
    "attributes = sfReader.records()"
   ]
  },
  {
   "cell_type": "code",
   "execution_count": 33,
   "metadata": {},
   "outputs": [],
   "source": [
    "# Ekstraksi koordinat XY dan Z yang disimpan dalam list berbeda\n",
    "# Dilakukan untuk menentukan building footprint dan ketinggian bangunan\n",
    "FeatXYCoords = []\n",
    "FeatZCoords = []\n",
    "for feature in features:\n",
    "    XYCoords = []\n",
    "    ZCoords = []\n",
    "    xy = feature.points\n",
    "    z = feature.z\n",
    "    for n in range(len(feature.parts)):\n",
    "        if n != len(feature.parts)-1:\n",
    "            PartXYCoords = xy[feature.parts[n]:feature.parts[n+1]]\n",
    "            PartZCoords = z[feature.parts[n]:feature.parts[n+1]]\n",
    "            XYCoords.append(PartXYCoords)\n",
    "            ZCoords.append(PartZCoords)\n",
    "        elif n == len(feature.parts)-1:\n",
    "            PartXYCoords = xy[feature.parts[n]:]\n",
    "            PartZCoords = z[feature.parts[n]:]\n",
    "            XYCoords.append(PartXYCoords)\n",
    "            ZCoords.append(PartZCoords)\n",
    "    FeatXYCoords.append(XYCoords)\n",
    "    FeatZCoords.append(ZCoords)\n",
    "    \n",
    "FeatXYZCoords = []\n",
    "for i, feature in enumerate(FeatXYCoords):\n",
    "    XYZFeat = []\n",
    "    for n, surface in enumerate(feature):\n",
    "        XYZSurf = []\n",
    "        for m, xy in enumerate(surface):\n",
    "            l_coord = list(xy)\n",
    "            l_coord.append(FeatZCoords[i][n][m])\n",
    "            t_coord = tuple(l_coord)\n",
    "            XYZSurf.append(t_coord)\n",
    "        XYZFeat.append(XYZSurf)\n",
    "    FeatXYZCoords.append(XYZFeat)"
   ]
  },
  {
   "cell_type": "code",
   "execution_count": 34,
   "metadata": {},
   "outputs": [],
   "source": [
    "# Perhitungan ketinggian dasar bangunan untuk proses seleksi building footprint\n",
    "# Perhitungan ketinggian bangunan untuk dijadikan acuan ketinggian dalam proses ektrusi bangunan\n",
    "ZMinValues = []\n",
    "BuildingHeight = []\n",
    "for ZFeatures in FeatZCoords:\n",
    "    ZValues = []\n",
    "    for surface in ZFeatures:\n",
    "        for z in surface:\n",
    "            ZValues.append(z)\n",
    "    ZMinValues.append(min(ZValues))\n",
    "    BuildingHeight.append(max(ZValues)-min(ZValues))"
   ]
  },
  {
   "cell_type": "code",
   "execution_count": 35,
   "metadata": {},
   "outputs": [],
   "source": [
    "# Seleksi building footprint untuk setiap bangunan\n",
    "GroundSurfaces = []\n",
    "for i, feature in enumerate(FeatXYZCoords):\n",
    "    GroundSurface = []\n",
    "    for surface in feature:\n",
    "        ZValues = []\n",
    "        for m, xyz in enumerate(surface):\n",
    "            ZValues.append(xyz[2])\n",
    "        ZMin = ZMinValues[i]\n",
    "        ZAvg = sum(ZValues)/len(ZValues)\n",
    "        if ZMin == ZAvg:\n",
    "            GroundSurface.append(surface)\n",
    "    GroundSurfaces.append(GroundSurface)"
   ]
  },
  {
   "cell_type": "code",
   "execution_count": 36,
   "metadata": {},
   "outputs": [],
   "source": [
    "# Memasukkan building footprint ke dalam GeoDataFrame\n",
    "# Diperlukan untuk proses spatial join dengan GeoDataFrame persil\n",
    "# Untuk mendapatkan informasi persil-persil yang berpotongan dengan building footprint setiap bangunan\n",
    "dfGround = gpd.GeoDataFrame(columns=['geometry'])\n",
    "for i, surface in enumerate(GroundSurfaces):\n",
    "    if len(surface) != 0:\n",
    "        dfGround.loc[i] = Polygon(surface[0])\n",
    "    elif len(surface) == 0:\n",
    "        dfGround.loc[i] = None\n",
    "dfGround = dfGround.set_crs('EPSG:32748')"
   ]
  },
  {
   "cell_type": "code",
   "execution_count": 37,
   "metadata": {},
   "outputs": [],
   "source": [
    "# Spatial join building footprint dengan persil\n",
    "groundSJoin = gpd.sjoin(dfGround, persil, how=\"left\", op='intersects')"
   ]
  },
  {
   "cell_type": "code",
   "execution_count": 38,
   "metadata": {},
   "outputs": [],
   "source": [
    "# Ekstraksi NIB persil yang berpotongan pada setiap building footprint\n",
    "NIB = {}\n",
    "for i, row in groundSJoin.iterrows():\n",
    "    if i not in NIB.keys():\n",
    "        NIB[i] = [row['NIB']]\n",
    "    elif i in NIB.keys():\n",
    "        NIB[i].append(row['NIB'])"
   ]
  },
  {
   "cell_type": "code",
   "execution_count": 39,
   "metadata": {},
   "outputs": [],
   "source": [
    "# Mengekstrusi dinding dan membuat atap untuk seluruh bangunan\n",
    "# Mengacu ke pada building footprint dan ketinggian\n",
    "# Disimpan di dalam dictionary\n",
    "OutputDict = {}\n",
    "ID = 0\n",
    "for i, ground in enumerate(GroundSurfaces):\n",
    "    ID += 1\n",
    "    OutputDict['IDLOD1_{}'.format(ID)] = []\n",
    "    \n",
    "    if len(ground) == 1:\n",
    "        XYCoordinates = []\n",
    "        XYZCoordinates = ground[0].copy()\n",
    "        for coordinate in XYZCoordinates:\n",
    "            t_coord = (coordinate[0], coordinate[1])\n",
    "            XYCoordinates.append(t_coord)\n",
    "        if sf.signed_area(XYCoordinates) < 0:\n",
    "            XYZCoordinates.reverse()\n",
    "        \n",
    "        Ground = ground[0].copy()\n",
    "        if sf.signed_area(XYCoordinates) >= 0:\n",
    "            Ground.reverse()\n",
    "        OutputDict['IDLOD1_{}'.format(ID)].append(Ground)\n",
    "        \n",
    "        for n in range(len(XYZCoordinates)-1):\n",
    "            coord1 = list(XYZCoordinates[n])\n",
    "            coord2 = list(XYZCoordinates[n+1])\n",
    "            coord3 = [coord2[0], coord2[1], coord2[2] + BuildingHeight[i]]\n",
    "            coord4 = [coord1[0], coord1[1], coord1[2] + BuildingHeight[i]]\n",
    "            surface = [tuple(coord1), tuple(coord2), tuple(coord3), tuple(coord4), tuple(coord1)]\n",
    "            OutputDict['IDLOD1_{}'.format(ID)].append(surface)\n",
    "            \n",
    "        Roof = []\n",
    "        for coordinate in XYZCoordinates:\n",
    "            t_coord = (coordinate[0], coordinate[1], coordinate[2] + BuildingHeight[i])\n",
    "            Roof.append(t_coord)\n",
    "        OutputDict['IDLOD1_{}'.format(ID)].append(Roof)"
   ]
  },
  {
   "cell_type": "code",
   "execution_count": 40,
   "metadata": {},
   "outputs": [],
   "source": [
    "# Mendefinisikan namespace CityGML\n",
    "ns_base = \"http://www.citygml.org/citygml/profiles/base/2.0\"\n",
    "ns_core = \"http://www.opengis.net/citygml/2.0\"\n",
    "ns_bldg = \"http://www.opengis.net/citygml/building/2.0\"\n",
    "ns_gen = \"http://www.opengis.net/citygml/generics/2.0\"\n",
    "ns_gml = \"http://www.opengis.net/gml\"\n",
    "ns_xAL = \"urn:oasis:names:tc:ciq:xsdschema:xAL:2.0\"\n",
    "ns_xlink = \"http://www.w3.org/1999/xlink\"\n",
    "ns_xsi = \"http://www.w3.org/2001/XMLSchema-instance\"\n",
    "ns_schemaLocation = \"http://www.citygml.org/citygml/profiles/base/2.0 http://schemas.opengis.net/citygml/profiles/base/2.0/CityGML.xsd\"\n",
    "\n",
    "nsmap = {None : ns_base, 'core': ns_core, 'bldg': ns_bldg, 'gen': ns_gen, 'gml': ns_gml, 'xAL': ns_xAL, 'xlink': ns_xlink, 'xsi': ns_xsi}"
   ]
  },
  {
   "cell_type": "code",
   "execution_count": 41,
   "metadata": {},
   "outputs": [],
   "source": [
    "# Membuat root element CityGML (CityModel)\n",
    "CityModel = etree.Element(\"{%s}CityModel\" % ns_core, nsmap=nsmap)\n",
    "CityModel.set('{%s}schemaLocation' % ns_xsi, ns_schemaLocation)"
   ]
  },
  {
   "cell_type": "code",
   "execution_count": 42,
   "metadata": {},
   "outputs": [],
   "source": [
    "# Membuat deskripsi dari file/model\n",
    "description = etree.SubElement(CityModel, '{%s}description' % ns_gml)\n",
    "description.text = 'Coblong LOD 1 Buildings'"
   ]
  },
  {
   "cell_type": "code",
   "execution_count": 43,
   "metadata": {},
   "outputs": [],
   "source": [
    "# Mendefinisikan fungsi untuk kalkulasi bounding box\n",
    "def bounding_box(surfaces):\n",
    "    coorX = []\n",
    "    coorY = []\n",
    "    coorZ = []\n",
    "    for surface in surfaces:\n",
    "        for coordinate in surface:\n",
    "            coorX.append(coordinate[0])\n",
    "            coorY.append(coordinate[1])\n",
    "            coorZ.append(coordinate[2])\n",
    "    lowerCorner = [min(coorX), min(coorY), min(coorZ)]\n",
    "    upperCorner = [max(coorX), max(coorY), max(coorZ)]\n",
    "    return lowerCorner, upperCorner"
   ]
  },
  {
   "cell_type": "code",
   "execution_count": 44,
   "metadata": {},
   "outputs": [],
   "source": [
    "# Kalkulasi bounding box untuk model\n",
    "xValues = []\n",
    "yValues = []\n",
    "zValues = []\n",
    "for i, ID in enumerate(OutputDict.keys()):\n",
    "    if len(OutputDict[ID]) != 0:\n",
    "        lower, upper = bounding_box(OutputDict[ID])\n",
    "        xValues.append(lower[0])\n",
    "        xValues.append(upper[0])\n",
    "        yValues.append(lower[1])\n",
    "        yValues.append(upper[1])\n",
    "        zValues.append(lower[2])\n",
    "        zValues.append(upper[2])\n",
    "        \n",
    "lower = [min(xValues), min(yValues), min(zValues)]\n",
    "upper = [max(xValues), max(yValues), max(zValues)]\n",
    "\n",
    "crs = 'EPSG:32748'\n",
    "\n",
    "BoundingBox = etree.SubElement(CityModel, '{%s}boundedBy' % ns_gml)\n",
    "Envelope = etree.SubElement(BoundingBox, '{%s}Envelope' % ns_gml, srsDimension='3')\n",
    "Envelope.set('srsName', crs)\n",
    "\n",
    "lowCorner = etree.SubElement(Envelope, '{%s}lowerCorner' % ns_gml)\n",
    "lowCorner.text = str(lower[0]) + ' ' + str(lower[1]) + ' ' + str(lower[2])\n",
    "uppCorner = etree.SubElement(Envelope, '{%s}upperCorner' % ns_gml)\n",
    "uppCorner.text = str(upper[0]) + ' ' + str(upper[1]) + ' ' + str(upper[2])"
   ]
  },
  {
   "cell_type": "code",
   "execution_count": 45,
   "metadata": {},
   "outputs": [],
   "source": [
    "# Mendefinisikan fungsi untuk menulis objek bangunan\n",
    "def writing_solid(surfaces, CompSurfElem):\n",
    "    for surface in surfaces:\n",
    "        surf_uuid = 'UUID_' + str(uuid.uuid4()) + '_1'\n",
    "        surfaceMember = etree.SubElement(CompSurfElem, '{%s}surfaceMember' % ns_gml)\n",
    "        Polygon = etree.SubElement(surfaceMember, '{%s}Polygon' % ns_gml)\n",
    "        Polygon.set('{%s}id' % ns_gml, surf_uuid + '_poly')\n",
    "        exterior = etree.SubElement(Polygon, '{%s}exterior' % ns_gml)\n",
    "        LinearRing = etree.SubElement(exterior, '{%s}LinearRing' % ns_gml)\n",
    "        posList = etree.SubElement(LinearRing, '{%s}posList' % ns_gml, srsDimension='3')\n",
    "        \n",
    "        coordinates = ''\n",
    "        copy = ''\n",
    "        for coordinate in surface:\n",
    "            coordinates = copy + str(coordinate[0]) + ' ' + str(coordinate[1]) + ' ' + str(coordinate[2]) + ' '\n",
    "            copy = coordinates\n",
    "        posList.text = coordinates[:-1]"
   ]
  },
  {
   "cell_type": "code",
   "execution_count": 46,
   "metadata": {},
   "outputs": [],
   "source": [
    "# Iterasi penulisan atribut dan geometri untuk seluruh bangunan\n",
    "for i, ID in enumerate(OutputDict.keys()):\n",
    "    if len(OutputDict[ID]) != 0:\n",
    "        cityObjectMember = etree.SubElement(CityModel, '{%s}cityObjectMember' % ns_core)\n",
    "\n",
    "        Building = etree.SubElement(cityObjectMember, '{%s}Building' % ns_bldg)\n",
    "        Building.set('{%s}id' % ns_gml, str(ID))\n",
    "        \n",
    "        FCODE = etree.SubElement(Building, '{%s}stringAttribute' % ns_gen)\n",
    "        FCODE.set('name', 'FCODE')\n",
    "        FCODEVal = etree.SubElement(FCODE, '{%s}value' % ns_gen)\n",
    "        FCODEVal.text = str(attributes[i][2])\n",
    "        \n",
    "        NAMOBJ = etree.SubElement(Building, '{%s}stringAttribute' % ns_gen)\n",
    "        NAMOBJ.set('name', 'NAMOBJ')\n",
    "        NAMOBJVal = etree.SubElement(NAMOBJ, '{%s}value' % ns_gen)\n",
    "        NAMOBJVal.text = str(attributes[i][4])\n",
    "        \n",
    "        REMARK = etree.SubElement(Building, '{%s}stringAttribute' % ns_gen)\n",
    "        REMARK.set('name', 'REMARK')\n",
    "        REMARKVal = etree.SubElement(REMARK, '{%s}value' % ns_gen)\n",
    "        REMARKVal.text = str(attributes[i][5])\n",
    "        \n",
    "        UPDATED = etree.SubElement(Building, '{%s}stringAttribute' % ns_gen)\n",
    "        UPDATED.set('name', 'UPDATED')\n",
    "        UPDATEDVal = etree.SubElement(UPDATED, '{%s}value' % ns_gen)\n",
    "        UPDATEDVal.text = str(attributes[i][17])\n",
    "        \n",
    "        KECAMATAN = etree.SubElement(Building, '{%s}stringAttribute' % ns_gen)\n",
    "        KECAMATAN.set('name', 'KECAMATAN')\n",
    "        KECAMATANVal = etree.SubElement(KECAMATAN, '{%s}value' % ns_gen)\n",
    "        KECAMATANVal.text = str(attributes[i][19])\n",
    "        \n",
    "        NIBElem = etree.SubElement(Building, '{%s}stringAttribute' % ns_gen)\n",
    "        NIBElem.set('name', 'NIB')\n",
    "        NIBVal = etree.SubElement(NIBElem, '{%s}value' % ns_gen)\n",
    "        NIBValues = ''\n",
    "        if len(NIB[i]) != 0:\n",
    "            for code in NIB[i]:\n",
    "                NIBValues = NIBValues + str(code) + ' '\n",
    "            NIBVal.text = NIBValues[:-1]\n",
    "        \n",
    "        MeasHeight = etree.SubElement(Building, '{%s}measuredHeight' % ns_bldg)\n",
    "        MeasHeight.set('uom', 'meter')\n",
    "        MeasHeight.text = str(attributes[i][12])\n",
    "\n",
    "        lod1Solid = etree.SubElement(Building, '{%s}lod1Solid' % ns_bldg)\n",
    "        Solid = etree.SubElement(lod1Solid, '{%s}Solid' % ns_gml)\n",
    "        exterior = etree.SubElement(Solid, '{%s}exterior' % ns_gml)\n",
    "        CompositeSurface = etree.SubElement(exterior, '{%s}CompositeSurface' % ns_gml)\n",
    "\n",
    "        #iterasi penulisan semua surface ke dalam CompositeSurface\n",
    "        writing_solid(OutputDict[ID], CompositeSurface)"
   ]
  },
  {
   "cell_type": "code",
   "execution_count": 26,
   "metadata": {},
   "outputs": [],
   "source": [
    "# Menuliskan model CityGML\n",
    "output_dir = '/Users/veriandi/Desktop/LOD1 Coblong (EPSG 32748) Corrected .gml'\n",
    "etree.ElementTree(CityModel).write(output_dir, xml_declaration=True, encoding='utf-8', pretty_print= True)"
   ]
  }
 ],
 "metadata": {
  "kernelspec": {
   "display_name": "Python 3",
   "language": "python",
   "name": "python3"
  },
  "language_info": {
   "codemirror_mode": {
    "name": "ipython",
    "version": 3
   },
   "file_extension": ".py",
   "mimetype": "text/x-python",
   "name": "python",
   "nbconvert_exporter": "python",
   "pygments_lexer": "ipython3",
   "version": "3.7.6"
  }
 },
 "nbformat": 4,
 "nbformat_minor": 4
}
